{
 "cells": [
  {
   "cell_type": "code",
   "execution_count": 29,
   "metadata": {
    "hide_input": true
   },
   "outputs": [],
   "source": [
    "# Melakukan Analisis Data dengan Python"
   ]
  },
  {
   "cell_type": "markdown",
   "metadata": {},
   "source": [
    "# Data survei Kelompok 9"
   ]
  },
  {
   "cell_type": "markdown",
   "metadata": {},
   "source": [
    "Q1 = Adanya E-Learning membuat pelajar dapat mengakses materi pelajaran dimana saja, selama terhubung dengan jaringan Internet ?\n",
    "\n",
    "Q2 = Setelah menggunakan E-Learning, anda lebih cepat menangkap materi pembelajaran ?\n",
    "\n",
    "\n",
    "Q3 = Dengan adanya E-Learning, materi - materi pembelajaran lebih mudah untuk dimengerti ?\n",
    "\n",
    "\n",
    "Q4 = Terdapat banyak materi internet yang mengandung konten - konten negatif ?\n",
    "\n",
    "\n",
    "Q5 = Apakah Biaya untuk mengakses internet di Indonesia mahal ?\n",
    "\n",
    "\n",
    "Q6 = Dengan adanya E-learning, proses pembelajaran tidak memerlukan banyak biaya ?\n",
    "\n",
    "\n",
    "Q7 = Apakah Ada materi yang tidak bisa disampaikan melalui E-learning. seperti praktek perakitan hardware ?\n",
    "\n",
    "\n",
    "Q8 = Apakah akses internet di tempat asal sudah cepat ?\""
   ]
  },
  {
   "cell_type": "markdown",
   "metadata": {},
   "source": [
    "# Info data, Shape Data, Index Data"
   ]
  },
  {
   "cell_type": "code",
   "execution_count": 28,
   "metadata": {
    "hide_input": true
   },
   "outputs": [
    {
     "name": "stdout",
     "output_type": "stream",
     "text": [
      "<class 'pandas.core.frame.DataFrame'>\n",
      "RangeIndex: 501 entries, 0 to 500\n",
      "Data columns (total 9 columns):\n",
      " #   Column      Non-Null Count  Dtype \n",
      "---  ------      --------------  ----- \n",
      " 0   Kelompok 9  501 non-null    object\n",
      " 1   Q1          501 non-null    int64 \n",
      " 2   Q2          501 non-null    int64 \n",
      " 3   Q3          501 non-null    int64 \n",
      " 4   Q4          501 non-null    int64 \n",
      " 5   Q5          501 non-null    int64 \n",
      " 6   Q6          501 non-null    int64 \n",
      " 7   Q7          501 non-null    int64 \n",
      " 8   Q8          501 non-null    int64 \n",
      "dtypes: int64(8), object(1)\n",
      "memory usage: 35.4+ KB\n"
     ]
    }
   ],
   "source": [
    "# Menampilkan info data"
   ]
  },
  {
   "cell_type": "code",
   "execution_count": 27,
   "metadata": {},
   "outputs": [
    {
     "data": {
      "text/plain": [
       "(501, 9)"
      ]
     },
     "execution_count": 27,
     "metadata": {},
     "output_type": "execute_result"
    }
   ],
   "source": [
    "# Menampilkan bentuk data"
   ]
  },
  {
   "cell_type": "code",
   "execution_count": 26,
   "metadata": {},
   "outputs": [
    {
     "data": {
      "text/plain": [
       "Index(['Kelompok 9', 'Q1', 'Q2', 'Q3', 'Q4', 'Q5', 'Q6', 'Q7', 'Q8'], dtype='object')"
      ]
     },
     "execution_count": 26,
     "metadata": {},
     "output_type": "execute_result"
    }
   ],
   "source": [
    "# Menampilkan index data"
   ]
  },
  {
   "cell_type": "markdown",
   "metadata": {},
   "source": [
    "# Menampilkan Head Data"
   ]
  },
  {
   "cell_type": "code",
   "execution_count": 25,
   "metadata": {
    "hide_input": true
   },
   "outputs": [
    {
     "data": {
      "text/html": [
       "<div>\n",
       "<style scoped>\n",
       "    .dataframe tbody tr th:only-of-type {\n",
       "        vertical-align: middle;\n",
       "    }\n",
       "\n",
       "    .dataframe tbody tr th {\n",
       "        vertical-align: top;\n",
       "    }\n",
       "\n",
       "    .dataframe thead th {\n",
       "        text-align: right;\n",
       "    }\n",
       "</style>\n",
       "<table border=\"1\" class=\"dataframe\">\n",
       "  <thead>\n",
       "    <tr style=\"text-align: right;\">\n",
       "      <th></th>\n",
       "      <th>Kelompok 9</th>\n",
       "      <th>Q1</th>\n",
       "      <th>Q2</th>\n",
       "      <th>Q3</th>\n",
       "      <th>Q4</th>\n",
       "      <th>Q5</th>\n",
       "      <th>Q6</th>\n",
       "      <th>Q7</th>\n",
       "      <th>Q8</th>\n",
       "    </tr>\n",
       "  </thead>\n",
       "  <tbody>\n",
       "    <tr>\n",
       "      <th>0</th>\n",
       "      <td>Responden 1</td>\n",
       "      <td>4</td>\n",
       "      <td>2</td>\n",
       "      <td>2</td>\n",
       "      <td>4</td>\n",
       "      <td>4</td>\n",
       "      <td>4</td>\n",
       "      <td>5</td>\n",
       "      <td>4</td>\n",
       "    </tr>\n",
       "    <tr>\n",
       "      <th>1</th>\n",
       "      <td>Responden 2</td>\n",
       "      <td>4</td>\n",
       "      <td>3</td>\n",
       "      <td>3</td>\n",
       "      <td>2</td>\n",
       "      <td>4</td>\n",
       "      <td>2</td>\n",
       "      <td>4</td>\n",
       "      <td>4</td>\n",
       "    </tr>\n",
       "    <tr>\n",
       "      <th>2</th>\n",
       "      <td>Responden 3</td>\n",
       "      <td>1</td>\n",
       "      <td>4</td>\n",
       "      <td>4</td>\n",
       "      <td>1</td>\n",
       "      <td>2</td>\n",
       "      <td>4</td>\n",
       "      <td>4</td>\n",
       "      <td>4</td>\n",
       "    </tr>\n",
       "    <tr>\n",
       "      <th>3</th>\n",
       "      <td>Responden 4</td>\n",
       "      <td>4</td>\n",
       "      <td>4</td>\n",
       "      <td>3</td>\n",
       "      <td>3</td>\n",
       "      <td>5</td>\n",
       "      <td>1</td>\n",
       "      <td>4</td>\n",
       "      <td>2</td>\n",
       "    </tr>\n",
       "    <tr>\n",
       "      <th>4</th>\n",
       "      <td>Responden 5</td>\n",
       "      <td>3</td>\n",
       "      <td>2</td>\n",
       "      <td>2</td>\n",
       "      <td>3</td>\n",
       "      <td>2</td>\n",
       "      <td>3</td>\n",
       "      <td>4</td>\n",
       "      <td>4</td>\n",
       "    </tr>\n",
       "  </tbody>\n",
       "</table>\n",
       "</div>"
      ],
      "text/plain": [
       "    Kelompok 9  Q1  Q2  Q3  Q4  Q5  Q6  Q7  Q8\n",
       "0  Responden 1   4   2   2   4   4   4   5   4\n",
       "1  Responden 2   4   3   3   2   4   2   4   4\n",
       "2  Responden 3   1   4   4   1   2   4   4   4\n",
       "3  Responden 4   4   4   3   3   5   1   4   2\n",
       "4  Responden 5   3   2   2   3   2   3   4   4"
      ]
     },
     "execution_count": 25,
     "metadata": {},
     "output_type": "execute_result"
    }
   ],
   "source": [
    "# 4 data pertama"
   ]
  },
  {
   "cell_type": "markdown",
   "metadata": {},
   "source": [
    "# Menampilkan Tail Data"
   ]
  },
  {
   "cell_type": "code",
   "execution_count": 24,
   "metadata": {
    "hide_input": true
   },
   "outputs": [
    {
     "data": {
      "text/html": [
       "<div>\n",
       "<style scoped>\n",
       "    .dataframe tbody tr th:only-of-type {\n",
       "        vertical-align: middle;\n",
       "    }\n",
       "\n",
       "    .dataframe tbody tr th {\n",
       "        vertical-align: top;\n",
       "    }\n",
       "\n",
       "    .dataframe thead th {\n",
       "        text-align: right;\n",
       "    }\n",
       "</style>\n",
       "<table border=\"1\" class=\"dataframe\">\n",
       "  <thead>\n",
       "    <tr style=\"text-align: right;\">\n",
       "      <th></th>\n",
       "      <th>Kelompok 9</th>\n",
       "      <th>Q1</th>\n",
       "      <th>Q2</th>\n",
       "      <th>Q3</th>\n",
       "      <th>Q4</th>\n",
       "      <th>Q5</th>\n",
       "      <th>Q6</th>\n",
       "      <th>Q7</th>\n",
       "      <th>Q8</th>\n",
       "    </tr>\n",
       "  </thead>\n",
       "  <tbody>\n",
       "    <tr>\n",
       "      <th>496</th>\n",
       "      <td>Responden 497</td>\n",
       "      <td>5</td>\n",
       "      <td>3</td>\n",
       "      <td>4</td>\n",
       "      <td>2</td>\n",
       "      <td>2</td>\n",
       "      <td>3</td>\n",
       "      <td>5</td>\n",
       "      <td>5</td>\n",
       "    </tr>\n",
       "    <tr>\n",
       "      <th>497</th>\n",
       "      <td>Responden 498</td>\n",
       "      <td>3</td>\n",
       "      <td>2</td>\n",
       "      <td>3</td>\n",
       "      <td>3</td>\n",
       "      <td>5</td>\n",
       "      <td>2</td>\n",
       "      <td>3</td>\n",
       "      <td>3</td>\n",
       "    </tr>\n",
       "    <tr>\n",
       "      <th>498</th>\n",
       "      <td>Responden 499</td>\n",
       "      <td>4</td>\n",
       "      <td>4</td>\n",
       "      <td>3</td>\n",
       "      <td>3</td>\n",
       "      <td>4</td>\n",
       "      <td>3</td>\n",
       "      <td>4</td>\n",
       "      <td>2</td>\n",
       "    </tr>\n",
       "    <tr>\n",
       "      <th>499</th>\n",
       "      <td>Responden 500</td>\n",
       "      <td>4</td>\n",
       "      <td>3</td>\n",
       "      <td>3</td>\n",
       "      <td>2</td>\n",
       "      <td>5</td>\n",
       "      <td>3</td>\n",
       "      <td>3</td>\n",
       "      <td>4</td>\n",
       "    </tr>\n",
       "    <tr>\n",
       "      <th>500</th>\n",
       "      <td>Responden 501</td>\n",
       "      <td>5</td>\n",
       "      <td>4</td>\n",
       "      <td>3</td>\n",
       "      <td>1</td>\n",
       "      <td>5</td>\n",
       "      <td>1</td>\n",
       "      <td>5</td>\n",
       "      <td>4</td>\n",
       "    </tr>\n",
       "  </tbody>\n",
       "</table>\n",
       "</div>"
      ],
      "text/plain": [
       "        Kelompok 9  Q1  Q2  Q3  Q4  Q5  Q6  Q7  Q8\n",
       "496  Responden 497   5   3   4   2   2   3   5   5\n",
       "497  Responden 498   3   2   3   3   5   2   3   3\n",
       "498  Responden 499   4   4   3   3   4   3   4   2\n",
       "499  Responden 500   4   3   3   2   5   3   3   4\n",
       "500  Responden 501   5   4   3   1   5   1   5   4"
      ]
     },
     "execution_count": 24,
     "metadata": {},
     "output_type": "execute_result"
    }
   ],
   "source": [
    "# 4 data terakhir"
   ]
  },
  {
   "cell_type": "markdown",
   "metadata": {},
   "source": [
    "# Data Statistik (Mean, count, min,max)"
   ]
  },
  {
   "cell_type": "code",
   "execution_count": 23,
   "metadata": {
    "hide_input": true
   },
   "outputs": [
    {
     "data": {
      "text/html": [
       "<div>\n",
       "<style scoped>\n",
       "    .dataframe tbody tr th:only-of-type {\n",
       "        vertical-align: middle;\n",
       "    }\n",
       "\n",
       "    .dataframe tbody tr th {\n",
       "        vertical-align: top;\n",
       "    }\n",
       "\n",
       "    .dataframe thead th {\n",
       "        text-align: right;\n",
       "    }\n",
       "</style>\n",
       "<table border=\"1\" class=\"dataframe\">\n",
       "  <thead>\n",
       "    <tr style=\"text-align: right;\">\n",
       "      <th></th>\n",
       "      <th>Q1</th>\n",
       "      <th>Q2</th>\n",
       "      <th>Q3</th>\n",
       "      <th>Q4</th>\n",
       "      <th>Q5</th>\n",
       "      <th>Q6</th>\n",
       "      <th>Q7</th>\n",
       "      <th>Q8</th>\n",
       "    </tr>\n",
       "  </thead>\n",
       "  <tbody>\n",
       "    <tr>\n",
       "      <th>count</th>\n",
       "      <td>501.000000</td>\n",
       "      <td>501.000000</td>\n",
       "      <td>501.000000</td>\n",
       "      <td>501.000000</td>\n",
       "      <td>501.000000</td>\n",
       "      <td>501.000000</td>\n",
       "      <td>501.000000</td>\n",
       "      <td>501.000000</td>\n",
       "    </tr>\n",
       "    <tr>\n",
       "      <th>mean</th>\n",
       "      <td>3.942116</td>\n",
       "      <td>3.083832</td>\n",
       "      <td>3.055888</td>\n",
       "      <td>2.774451</td>\n",
       "      <td>3.796407</td>\n",
       "      <td>2.852295</td>\n",
       "      <td>3.868263</td>\n",
       "      <td>3.069860</td>\n",
       "    </tr>\n",
       "    <tr>\n",
       "      <th>std</th>\n",
       "      <td>0.906997</td>\n",
       "      <td>0.906067</td>\n",
       "      <td>0.955442</td>\n",
       "      <td>1.046435</td>\n",
       "      <td>1.098393</td>\n",
       "      <td>1.007045</td>\n",
       "      <td>0.933065</td>\n",
       "      <td>1.195454</td>\n",
       "    </tr>\n",
       "    <tr>\n",
       "      <th>min</th>\n",
       "      <td>1.000000</td>\n",
       "      <td>1.000000</td>\n",
       "      <td>1.000000</td>\n",
       "      <td>1.000000</td>\n",
       "      <td>1.000000</td>\n",
       "      <td>1.000000</td>\n",
       "      <td>1.000000</td>\n",
       "      <td>1.000000</td>\n",
       "    </tr>\n",
       "    <tr>\n",
       "      <th>25%</th>\n",
       "      <td>4.000000</td>\n",
       "      <td>3.000000</td>\n",
       "      <td>2.000000</td>\n",
       "      <td>2.000000</td>\n",
       "      <td>3.000000</td>\n",
       "      <td>2.000000</td>\n",
       "      <td>3.000000</td>\n",
       "      <td>2.000000</td>\n",
       "    </tr>\n",
       "    <tr>\n",
       "      <th>50%</th>\n",
       "      <td>4.000000</td>\n",
       "      <td>3.000000</td>\n",
       "      <td>3.000000</td>\n",
       "      <td>3.000000</td>\n",
       "      <td>4.000000</td>\n",
       "      <td>3.000000</td>\n",
       "      <td>4.000000</td>\n",
       "      <td>3.000000</td>\n",
       "    </tr>\n",
       "    <tr>\n",
       "      <th>75%</th>\n",
       "      <td>4.000000</td>\n",
       "      <td>4.000000</td>\n",
       "      <td>4.000000</td>\n",
       "      <td>4.000000</td>\n",
       "      <td>5.000000</td>\n",
       "      <td>4.000000</td>\n",
       "      <td>5.000000</td>\n",
       "      <td>4.000000</td>\n",
       "    </tr>\n",
       "    <tr>\n",
       "      <th>max</th>\n",
       "      <td>5.000000</td>\n",
       "      <td>5.000000</td>\n",
       "      <td>5.000000</td>\n",
       "      <td>5.000000</td>\n",
       "      <td>5.000000</td>\n",
       "      <td>5.000000</td>\n",
       "      <td>5.000000</td>\n",
       "      <td>5.000000</td>\n",
       "    </tr>\n",
       "  </tbody>\n",
       "</table>\n",
       "</div>"
      ],
      "text/plain": [
       "               Q1          Q2          Q3          Q4          Q5          Q6  \\\n",
       "count  501.000000  501.000000  501.000000  501.000000  501.000000  501.000000   \n",
       "mean     3.942116    3.083832    3.055888    2.774451    3.796407    2.852295   \n",
       "std      0.906997    0.906067    0.955442    1.046435    1.098393    1.007045   \n",
       "min      1.000000    1.000000    1.000000    1.000000    1.000000    1.000000   \n",
       "25%      4.000000    3.000000    2.000000    2.000000    3.000000    2.000000   \n",
       "50%      4.000000    3.000000    3.000000    3.000000    4.000000    3.000000   \n",
       "75%      4.000000    4.000000    4.000000    4.000000    5.000000    4.000000   \n",
       "max      5.000000    5.000000    5.000000    5.000000    5.000000    5.000000   \n",
       "\n",
       "               Q7          Q8  \n",
       "count  501.000000  501.000000  \n",
       "mean     3.868263    3.069860  \n",
       "std      0.933065    1.195454  \n",
       "min      1.000000    1.000000  \n",
       "25%      3.000000    2.000000  \n",
       "50%      4.000000    3.000000  \n",
       "75%      5.000000    4.000000  \n",
       "max      5.000000    5.000000  "
      ]
     },
     "execution_count": 23,
     "metadata": {},
     "output_type": "execute_result"
    }
   ],
   "source": [
    "# Deskripsi data"
   ]
  },
  {
   "cell_type": "markdown",
   "metadata": {},
   "source": [
    "# Correaltion"
   ]
  },
  {
   "cell_type": "code",
   "execution_count": 22,
   "metadata": {
    "hide_input": true
   },
   "outputs": [
    {
     "data": {
      "text/html": [
       "<div>\n",
       "<style scoped>\n",
       "    .dataframe tbody tr th:only-of-type {\n",
       "        vertical-align: middle;\n",
       "    }\n",
       "\n",
       "    .dataframe tbody tr th {\n",
       "        vertical-align: top;\n",
       "    }\n",
       "\n",
       "    .dataframe thead th {\n",
       "        text-align: right;\n",
       "    }\n",
       "</style>\n",
       "<table border=\"1\" class=\"dataframe\">\n",
       "  <thead>\n",
       "    <tr style=\"text-align: right;\">\n",
       "      <th></th>\n",
       "      <th>Q1</th>\n",
       "      <th>Q2</th>\n",
       "      <th>Q3</th>\n",
       "      <th>Q4</th>\n",
       "      <th>Q5</th>\n",
       "      <th>Q6</th>\n",
       "      <th>Q7</th>\n",
       "      <th>Q8</th>\n",
       "    </tr>\n",
       "  </thead>\n",
       "  <tbody>\n",
       "    <tr>\n",
       "      <th>Q1</th>\n",
       "      <td>1.000000</td>\n",
       "      <td>0.215213</td>\n",
       "      <td>0.266843</td>\n",
       "      <td>-0.062250</td>\n",
       "      <td>0.058411</td>\n",
       "      <td>0.076017</td>\n",
       "      <td>0.222571</td>\n",
       "      <td>0.208483</td>\n",
       "    </tr>\n",
       "    <tr>\n",
       "      <th>Q2</th>\n",
       "      <td>0.215213</td>\n",
       "      <td>1.000000</td>\n",
       "      <td>0.694592</td>\n",
       "      <td>0.015764</td>\n",
       "      <td>-0.133537</td>\n",
       "      <td>0.241555</td>\n",
       "      <td>-0.157240</td>\n",
       "      <td>0.020433</td>\n",
       "    </tr>\n",
       "    <tr>\n",
       "      <th>Q3</th>\n",
       "      <td>0.266843</td>\n",
       "      <td>0.694592</td>\n",
       "      <td>1.000000</td>\n",
       "      <td>-0.025374</td>\n",
       "      <td>-0.078707</td>\n",
       "      <td>0.214381</td>\n",
       "      <td>-0.166713</td>\n",
       "      <td>0.049106</td>\n",
       "    </tr>\n",
       "    <tr>\n",
       "      <th>Q4</th>\n",
       "      <td>-0.062250</td>\n",
       "      <td>0.015764</td>\n",
       "      <td>-0.025374</td>\n",
       "      <td>1.000000</td>\n",
       "      <td>0.069591</td>\n",
       "      <td>-0.029779</td>\n",
       "      <td>0.078071</td>\n",
       "      <td>-0.089700</td>\n",
       "    </tr>\n",
       "    <tr>\n",
       "      <th>Q5</th>\n",
       "      <td>0.058411</td>\n",
       "      <td>-0.133537</td>\n",
       "      <td>-0.078707</td>\n",
       "      <td>0.069591</td>\n",
       "      <td>1.000000</td>\n",
       "      <td>-0.314729</td>\n",
       "      <td>0.122089</td>\n",
       "      <td>-0.190201</td>\n",
       "    </tr>\n",
       "    <tr>\n",
       "      <th>Q6</th>\n",
       "      <td>0.076017</td>\n",
       "      <td>0.241555</td>\n",
       "      <td>0.214381</td>\n",
       "      <td>-0.029779</td>\n",
       "      <td>-0.314729</td>\n",
       "      <td>1.000000</td>\n",
       "      <td>-0.067576</td>\n",
       "      <td>0.068395</td>\n",
       "    </tr>\n",
       "    <tr>\n",
       "      <th>Q7</th>\n",
       "      <td>0.222571</td>\n",
       "      <td>-0.157240</td>\n",
       "      <td>-0.166713</td>\n",
       "      <td>0.078071</td>\n",
       "      <td>0.122089</td>\n",
       "      <td>-0.067576</td>\n",
       "      <td>1.000000</td>\n",
       "      <td>0.072816</td>\n",
       "    </tr>\n",
       "    <tr>\n",
       "      <th>Q8</th>\n",
       "      <td>0.208483</td>\n",
       "      <td>0.020433</td>\n",
       "      <td>0.049106</td>\n",
       "      <td>-0.089700</td>\n",
       "      <td>-0.190201</td>\n",
       "      <td>0.068395</td>\n",
       "      <td>0.072816</td>\n",
       "      <td>1.000000</td>\n",
       "    </tr>\n",
       "  </tbody>\n",
       "</table>\n",
       "</div>"
      ],
      "text/plain": [
       "          Q1        Q2        Q3        Q4        Q5        Q6        Q7  \\\n",
       "Q1  1.000000  0.215213  0.266843 -0.062250  0.058411  0.076017  0.222571   \n",
       "Q2  0.215213  1.000000  0.694592  0.015764 -0.133537  0.241555 -0.157240   \n",
       "Q3  0.266843  0.694592  1.000000 -0.025374 -0.078707  0.214381 -0.166713   \n",
       "Q4 -0.062250  0.015764 -0.025374  1.000000  0.069591 -0.029779  0.078071   \n",
       "Q5  0.058411 -0.133537 -0.078707  0.069591  1.000000 -0.314729  0.122089   \n",
       "Q6  0.076017  0.241555  0.214381 -0.029779 -0.314729  1.000000 -0.067576   \n",
       "Q7  0.222571 -0.157240 -0.166713  0.078071  0.122089 -0.067576  1.000000   \n",
       "Q8  0.208483  0.020433  0.049106 -0.089700 -0.190201  0.068395  0.072816   \n",
       "\n",
       "          Q8  \n",
       "Q1  0.208483  \n",
       "Q2  0.020433  \n",
       "Q3  0.049106  \n",
       "Q4 -0.089700  \n",
       "Q5 -0.190201  \n",
       "Q6  0.068395  \n",
       "Q7  0.072816  \n",
       "Q8  1.000000  "
      ]
     },
     "execution_count": 22,
     "metadata": {},
     "output_type": "execute_result"
    }
   ],
   "source": [
    "# Corelasi data"
   ]
  },
  {
   "cell_type": "markdown",
   "metadata": {},
   "source": [
    "# Mapping Correlation Table"
   ]
  },
  {
   "cell_type": "code",
   "execution_count": 21,
   "metadata": {
    "hide_input": true
   },
   "outputs": [
    {
     "data": {
      "text/plain": [
       "<function matplotlib.pyplot.show(*args, **kw)>"
      ]
     },
     "execution_count": 21,
     "metadata": {},
     "output_type": "execute_result"
    },
    {
     "data": {
      "image/png": "[encoded data removed]",
      "text/plain": [
       "<Figure size 720x720 with 2 Axes>"
      ]
     },
     "metadata": {
      "needs_background": "light"
     },
     "output_type": "display_data"
    }
   ],
   "source": [
    "# Peta corelasi"
   ]
  }
 ],
 "metadata": {
  "kernelspec": {
   "display_name": "Python 3",
   "language": "python",
   "name": "python3"
  },
  "language_info": {
   "codemirror_mode": {
    "name": "ipython",
    "version": 3
   },
   "file_extension": ".py",
   "mimetype": "text/x-python",
   "name": "python",
   "nbconvert_exporter": "python",
   "pygments_lexer": "ipython3",
   "version": "3.7.6"
  }
 },
 "nbformat": 4,
 "nbformat_minor": 4
}
