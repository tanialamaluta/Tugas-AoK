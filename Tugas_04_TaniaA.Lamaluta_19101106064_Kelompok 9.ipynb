{
 "cells": [
  {
   "cell_type": "code",
   "execution_count": 7,
   "metadata": {},
   "outputs": [],
   "source": [
    "#Melakukan pengujian data dengan Bahasa R"
   ]
  },
  {
   "cell_type": "markdown",
   "metadata": {},
   "source": [
    "# Uji Data Kelompok 9"
   ]
  },
  {
   "cell_type": "markdown",
   "metadata": {},
   "source": [
    "Q1 = Adanya E-Learning membuat pelajar dapat mengakses materi pelajaran dimana saja, selama terhubung dengan jaringan Internet ?\n",
    "\n",
    "Q2 = Setelah menggunakan E-Learning, anda lebih cepat menangkap materi pembelajaran ?\n",
    "\n",
    "\n",
    "Q3 = Dengan adanya E-Learning, materi - materi pembelajaran lebih mudah untuk dimengerti ?\n",
    "\n",
    "\n",
    "Q4 = Terdapat banyak materi internet yang mengandung konten - konten negatif ?\n",
    "\n",
    "\n",
    "Q5 = Apakah Biaya untuk mengakses internet di Indonesia mahal ?\n",
    "\n",
    "\n",
    "Q6 = Dengan adanya E-learning, proses pembelajaran tidak memerlukan banyak biaya ?\n",
    "\n",
    "\n",
    "Q7 = Apakah Ada materi yang tidak bisa disampaikan melalui E-learning. seperti praktek perakitan hardware ?\n",
    "\n",
    "\n",
    "Q8 = Apakah akses internet di tempat asal sudah cepat ?\""
   ]
  },
  {
   "cell_type": "markdown",
   "metadata": {},
   "source": [
    "# Alpha Cronbach (Reliability Analysis)"
   ]
  },
  {
   "cell_type": "code",
   "execution_count": 35,
   "metadata": {
    "scrolled": false
   },
   "outputs": [
    {
     "data": {
      "text/plain": [
       "\n",
       "Reliability analysis   \n",
       "Call: alpha(x = data, check.keys = TRUE)\n",
       "\n",
       "  raw_alpha std.alpha G6(smc) average_r S/N   ase mean   sd median_r\n",
       "       0.5      0.51    0.57      0.12 1.1 0.034  2.9 0.48    0.078\n",
       "\n",
       " lower alpha upper     95% confidence boundaries\n",
       "0.44 0.5 0.57 \n",
       "\n",
       " Reliability if an item is dropped:\n",
       "    raw_alpha std.alpha G6(smc) average_r  S/N alpha se var.r med.r\n",
       "Q1       0.49      0.51    0.55     0.130 1.04    0.035 0.025 0.079\n",
       "Q2       0.40      0.40    0.42     0.087 0.67    0.040 0.014 0.076\n",
       "Q3       0.40      0.39    0.42     0.085 0.65    0.041 0.014 0.076\n",
       "Q4-      0.52      0.53    0.59     0.140 1.14    0.033 0.032 0.134\n",
       "Q5-      0.46      0.48    0.53     0.115 0.91    0.037 0.031 0.076\n",
       "Q6       0.44      0.46    0.52     0.108 0.84    0.038 0.031 0.079\n",
       "Q7-      0.52      0.54    0.58     0.142 1.16    0.033 0.026 0.079\n",
       "Q8       0.50      0.51    0.56     0.129 1.04    0.034 0.031 0.079\n",
       "\n",
       " Item statistics \n",
       "      n raw.r std.r r.cor r.drop mean   sd\n",
       "Q1  501  0.39  0.41  0.26  0.159  3.9 0.91\n",
       "Q2  501  0.60  0.64  0.68  0.419  3.1 0.91\n",
       "Q3  501  0.62  0.65  0.70  0.427  3.1 0.96\n",
       "Q4- 501  0.37  0.35  0.13  0.099  3.2 1.05\n",
       "Q5- 501  0.52  0.49  0.35  0.258  2.2 1.10\n",
       "Q6  501  0.53  0.53  0.40  0.298  2.9 1.01\n",
       "Q7- 501  0.32  0.34  0.15  0.082  2.1 0.93\n",
       "Q8  501  0.46  0.41  0.22  0.162  3.1 1.20\n",
       "\n",
       "Non missing response frequency for each item\n",
       "      1    2    3    4    5 miss\n",
       "Q1 0.04 0.04 0.09 0.60 0.23    0\n",
       "Q2 0.05 0.19 0.44 0.29 0.04    0\n",
       "Q3 0.06 0.21 0.40 0.28 0.05    0\n",
       "Q4 0.09 0.37 0.27 0.23 0.05    0\n",
       "Q5 0.03 0.12 0.19 0.35 0.31    0\n",
       "Q6 0.08 0.32 0.33 0.23 0.05    0\n",
       "Q7 0.01 0.08 0.20 0.45 0.26    0\n",
       "Q8 0.13 0.22 0.16 0.43 0.06    0"
      ]
     },
     "metadata": {},
     "output_type": "display_data"
    }
   ],
   "source": [
    "#Alpha Cronbach digunakan untuk menguji kelayakan suatu data"
   ]
  },
  {
   "cell_type": "markdown",
   "metadata": {},
   "source": [
    "# One Sample T-test"
   ]
  },
  {
   "cell_type": "code",
   "execution_count": 24,
   "metadata": {},
   "outputs": [
    {
     "data": {
      "text/plain": [
       "\n",
       "\tOne Sample t-test\n",
       "\n",
       "data:  data$Q1\n",
       "t = 97.284, df = 500, p-value < 2.2e-16\n",
       "alternative hypothesis: true mean is not equal to 0\n",
       "95 percent confidence interval:\n",
       " 3.862502 4.021729\n",
       "sample estimates:\n",
       "mean of x \n",
       " 3.942116 \n"
      ]
     },
     "metadata": {},
     "output_type": "display_data"
    }
   ],
   "source": [
    "#Sampel Data Q1"
   ]
  },
  {
   "cell_type": "code",
   "execution_count": 25,
   "metadata": {},
   "outputs": [
    {
     "data": {
      "text/plain": [
       "\n",
       "\tOne Sample t-test\n",
       "\n",
       "data:  data$Q2\n",
       "t = 76.181, df = 500, p-value < 2.2e-16\n",
       "alternative hypothesis: true mean is not equal to 0\n",
       "95 percent confidence interval:\n",
       " 3.004300 3.163364\n",
       "sample estimates:\n",
       "mean of x \n",
       " 3.083832 \n"
      ]
     },
     "metadata": {},
     "output_type": "display_data"
    }
   ],
   "source": [
    "#Sampel Data Q2"
   ]
  },
  {
   "cell_type": "code",
   "execution_count": 26,
   "metadata": {},
   "outputs": [
    {
     "data": {
      "text/plain": [
       "\n",
       "\tOne Sample t-test\n",
       "\n",
       "data:  data$Q3\n",
       "t = 71.59, df = 500, p-value < 2.2e-16\n",
       "alternative hypothesis: true mean is not equal to 0\n",
       "95 percent confidence interval:\n",
       " 2.972022 3.139754\n",
       "sample estimates:\n",
       "mean of x \n",
       " 3.055888 \n"
      ]
     },
     "metadata": {},
     "output_type": "display_data"
    }
   ],
   "source": [
    "#Sampel Data Q3"
   ]
  },
  {
   "cell_type": "code",
   "execution_count": 27,
   "metadata": {},
   "outputs": [
    {
     "data": {
      "text/plain": [
       "\n",
       "\tOne Sample t-test\n",
       "\n",
       "data:  data$Q4\n",
       "t = 59.345, df = 500, p-value < 2.2e-16\n",
       "alternative hypothesis: true mean is not equal to 0\n",
       "95 percent confidence interval:\n",
       " 2.682598 2.866304\n",
       "sample estimates:\n",
       "mean of x \n",
       " 2.774451 \n"
      ]
     },
     "metadata": {},
     "output_type": "display_data"
    }
   ],
   "source": [
    "#Sampel Data Q4"
   ]
  },
  {
   "cell_type": "code",
   "execution_count": 28,
   "metadata": {},
   "outputs": [
    {
     "data": {
      "text/plain": [
       "\n",
       "\tOne Sample t-test\n",
       "\n",
       "data:  data$Q5\n",
       "t = 77.363, df = 500, p-value < 2.2e-16\n",
       "alternative hypothesis: true mean is not equal to 0\n",
       "95 percent confidence interval:\n",
       " 3.699993 3.892821\n",
       "sample estimates:\n",
       "mean of x \n",
       " 3.796407 \n"
      ]
     },
     "metadata": {},
     "output_type": "display_data"
    }
   ],
   "source": [
    "#Sampel Data Q5"
   ]
  },
  {
   "cell_type": "code",
   "execution_count": 29,
   "metadata": {},
   "outputs": [
    {
     "data": {
      "text/plain": [
       "\n",
       "\tOne Sample t-test\n",
       "\n",
       "data:  data$Q6\n",
       "t = 63.396, df = 500, p-value < 2.2e-16\n",
       "alternative hypothesis: true mean is not equal to 0\n",
       "95 percent confidence interval:\n",
       " 2.763900 2.940691\n",
       "sample estimates:\n",
       "mean of x \n",
       " 2.852295 \n"
      ]
     },
     "metadata": {},
     "output_type": "display_data"
    }
   ],
   "source": [
    "#Sampel Data Q6"
   ]
  },
  {
   "cell_type": "code",
   "execution_count": 30,
   "metadata": {},
   "outputs": [
    {
     "data": {
      "text/plain": [
       "\n",
       "\tOne Sample t-test\n",
       "\n",
       "data:  data$Q7\n",
       "t = 92.795, df = 500, p-value < 2.2e-16\n",
       "alternative hypothesis: true mean is not equal to 0\n",
       "95 percent confidence interval:\n",
       " 3.786362 3.950165\n",
       "sample estimates:\n",
       "mean of x \n",
       " 3.868263 \n"
      ]
     },
     "metadata": {},
     "output_type": "display_data"
    }
   ],
   "source": [
    "#Sampel Data Q7"
   ]
  },
  {
   "cell_type": "code",
   "execution_count": 8,
   "metadata": {},
   "outputs": [
    {
     "data": {
      "text/plain": [
       "\n",
       "\tOne Sample t-test\n",
       "\n",
       "data:  data$Q8\n",
       "t = 57.478, df = 500, p-value < 2.2e-16\n",
       "alternative hypothesis: true mean is not equal to 0\n",
       "95 percent confidence interval:\n",
       " 2.964927 3.174794\n",
       "sample estimates:\n",
       "mean of x \n",
       "  3.06986 \n"
      ]
     },
     "metadata": {},
     "output_type": "display_data"
    }
   ],
   "source": [
    "#Sampel Data Q8"
   ]
  },
  {
   "cell_type": "markdown",
   "metadata": {},
   "source": [
    "# Paired Sample T-test"
   ]
  },
  {
   "cell_type": "code",
   "execution_count": 10,
   "metadata": {},
   "outputs": [
    {
     "data": {
      "text/plain": [
       "\n",
       "\tPaired t-test\n",
       "\n",
       "data:  data$Q1 and data$Q2\n",
       "t = 16.915, df = 500, p-value < 2.2e-16\n",
       "alternative hypothesis: true difference in means is not equal to 0\n",
       "95 percent confidence interval:\n",
       " 0.7585925 0.9579744\n",
       "sample estimates:\n",
       "mean of the differences \n",
       "              0.8582834 \n"
      ]
     },
     "metadata": {},
     "output_type": "display_data"
    }
   ],
   "source": [
    "#Paired Sample Q1 dan Q2"
   ]
  },
  {
   "cell_type": "code",
   "execution_count": 11,
   "metadata": {},
   "outputs": [
    {
     "data": {
      "text/plain": [
       "\n",
       "\tPaired t-test\n",
       "\n",
       "data:  data$Q1 and data$Q3\n",
       "t = 17.581, df = 500, p-value < 2.2e-16\n",
       "alternative hypothesis: true difference in means is not equal to 0\n",
       "95 percent confidence interval:\n",
       " 0.7871897 0.9852654\n",
       "sample estimates:\n",
       "mean of the differences \n",
       "              0.8862275 \n"
      ]
     },
     "metadata": {},
     "output_type": "display_data"
    }
   ],
   "source": [
    "#Paired Sample Q1 dan Q3"
   ]
  },
  {
   "cell_type": "code",
   "execution_count": 12,
   "metadata": {},
   "outputs": [
    {
     "data": {
      "text/plain": [
       "\n",
       "\tPaired t-test\n",
       "\n",
       "data:  data$Q1 and data$Q4\n",
       "t = 18.317, df = 500, p-value < 2.2e-16\n",
       "alternative hypothesis: true difference in means is not equal to 0\n",
       "95 percent confidence interval:\n",
       " 1.042422 1.292907\n",
       "sample estimates:\n",
       "mean of the differences \n",
       "               1.167665 \n"
      ]
     },
     "metadata": {},
     "output_type": "display_data"
    }
   ],
   "source": [
    "#Paired Sample Q1 dan Q4"
   ]
  },
  {
   "cell_type": "code",
   "execution_count": 13,
   "metadata": {},
   "outputs": [
    {
     "data": {
      "text/plain": [
       "\n",
       "\tPaired t-test\n",
       "\n",
       "data:  data$Q1 and data$Q5\n",
       "t = 2.3582, df = 500, p-value = 0.01875\n",
       "alternative hypothesis: true difference in means is not equal to 0\n",
       "95 percent confidence interval:\n",
       " 0.02431151 0.26710565\n",
       "sample estimates:\n",
       "mean of the differences \n",
       "              0.1457086 \n"
      ]
     },
     "metadata": {},
     "output_type": "display_data"
    }
   ],
   "source": [
    "#Paired Sample Q1 dan Q5"
   ]
  },
  {
   "cell_type": "code",
   "execution_count": 14,
   "metadata": {},
   "outputs": [
    {
     "data": {
      "text/plain": [
       "\n",
       "\tPaired t-test\n",
       "\n",
       "data:  data$Q1 and data$Q6\n",
       "t = 18.72, df = 500, p-value < 2.2e-16\n",
       "alternative hypothesis: true difference in means is not equal to 0\n",
       "95 percent confidence interval:\n",
       " 0.975443 1.204198\n",
       "sample estimates:\n",
       "mean of the differences \n",
       "                1.08982 \n"
      ]
     },
     "metadata": {},
     "output_type": "display_data"
    }
   ],
   "source": [
    "#Paired Sample Q1 dan Q6"
   ]
  },
  {
   "cell_type": "code",
   "execution_count": 15,
   "metadata": {},
   "outputs": [
    {
     "data": {
      "text/plain": [
       "\n",
       "\tPaired t-test\n",
       "\n",
       "data:  data$Q1 and data$Q7\n",
       "t = 1.4407, df = 500, p-value = 0.1503\n",
       "alternative hypothesis: true difference in means is not equal to 0\n",
       "95 percent confidence interval:\n",
       " -0.02686359  0.17456818\n",
       "sample estimates:\n",
       "mean of the differences \n",
       "              0.0738523 \n"
      ]
     },
     "metadata": {},
     "output_type": "display_data"
    }
   ],
   "source": [
    "#Paired Sample Q1 dan Q7"
   ]
  },
  {
   "cell_type": "code",
   "execution_count": 16,
   "metadata": {},
   "outputs": [
    {
     "data": {
      "text/plain": [
       "\n",
       "\tPaired t-test\n",
       "\n",
       "data:  data$Q1 and data$Q8\n",
       "t = 14.554, df = 500, p-value < 2.2e-16\n",
       "alternative hypothesis: true difference in means is not equal to 0\n",
       "95 percent confidence interval:\n",
       " 0.7545015 0.9900095\n",
       "sample estimates:\n",
       "mean of the differences \n",
       "              0.8722555 \n"
      ]
     },
     "metadata": {},
     "output_type": "display_data"
    }
   ],
   "source": [
    "#Paired Sample Q1 dan Q8"
   ]
  },
  {
   "cell_type": "code",
   "execution_count": 17,
   "metadata": {},
   "outputs": [
    {
     "data": {
      "text/plain": [
       "\n",
       "\tPaired t-test\n",
       "\n",
       "data:  data$Q2 and data$Q3\n",
       "t = 0.85817, df = 500, p-value = 0.3912\n",
       "alternative hypothesis: true difference in means is not equal to 0\n",
       "95 percent confidence interval:\n",
       " -0.03603202  0.09192024\n",
       "sample estimates:\n",
       "mean of the differences \n",
       "             0.02794411 \n"
      ]
     },
     "metadata": {},
     "output_type": "display_data"
    }
   ],
   "source": [
    "#Paired Sample Q2 dan Q3"
   ]
  },
  {
   "cell_type": "code",
   "execution_count": 18,
   "metadata": {},
   "outputs": [
    {
     "data": {
      "text/plain": [
       "\n",
       "\tPaired t-test\n",
       "\n",
       "data:  data$Q2 and data$Q4\n",
       "t = 5.0423, df = 500, p-value = 6.442e-07\n",
       "alternative hypothesis: true difference in means is not equal to 0\n",
       "95 percent confidence interval:\n",
       " 0.1888324 0.4299301\n",
       "sample estimates:\n",
       "mean of the differences \n",
       "              0.3093812 \n"
      ]
     },
     "metadata": {},
     "output_type": "display_data"
    }
   ],
   "source": [
    "#Paired Sample Q2 dan Q4"
   ]
  },
  {
   "cell_type": "code",
   "execution_count": 19,
   "metadata": {},
   "outputs": [
    {
     "data": {
      "text/plain": [
       "\n",
       "\tPaired t-test\n",
       "\n",
       "data:  data$Q2 and data$Q5\n",
       "t = -10.532, df = 500, p-value < 2.2e-16\n",
       "alternative hypothesis: true difference in means is not equal to 0\n",
       "95 percent confidence interval:\n",
       " -0.8454993 -0.5796504\n",
       "sample estimates:\n",
       "mean of the differences \n",
       "             -0.7125749 \n"
      ]
     },
     "metadata": {},
     "output_type": "display_data"
    }
   ],
   "source": [
    "#Paired Sample Q2 dan Q5"
   ]
  },
  {
   "cell_type": "code",
   "execution_count": 20,
   "metadata": {},
   "outputs": [
    {
     "data": {
      "text/plain": [
       "\n",
       "\tPaired t-test\n",
       "\n",
       "data:  data$Q2 and data$Q6\n",
       "t = 4.389, df = 500, p-value = 1.39e-05\n",
       "alternative hypothesis: true difference in means is not equal to 0\n",
       "95 percent confidence interval:\n",
       " 0.1278898 0.3351841\n",
       "sample estimates:\n",
       "mean of the differences \n",
       "              0.2315369 \n"
      ]
     },
     "metadata": {},
     "output_type": "display_data"
    }
   ],
   "source": [
    "#Paired Sample Q2 dan Q6"
   ]
  },
  {
   "cell_type": "code",
   "execution_count": 21,
   "metadata": {},
   "outputs": [
    {
     "data": {
      "text/plain": [
       "\n",
       "\tPaired t-test\n",
       "\n",
       "data:  data$Q2 and data$Q7\n",
       "t = -12.55, df = 500, p-value < 2.2e-16\n",
       "alternative hypothesis: true difference in means is not equal to 0\n",
       "95 percent confidence interval:\n",
       " -0.9072389 -0.6616234\n",
       "sample estimates:\n",
       "mean of the differences \n",
       "             -0.7844311 \n"
      ]
     },
     "metadata": {},
     "output_type": "display_data"
    }
   ],
   "source": [
    "#Paired Sample Q2 dan Q7"
   ]
  },
  {
   "cell_type": "code",
   "execution_count": 22,
   "metadata": {},
   "outputs": [
    {
     "data": {
      "text/plain": [
       "\n",
       "\tPaired t-test\n",
       "\n",
       "data:  data$Q2 and data$Q8\n",
       "t = 0.21057, df = 500, p-value = 0.8333\n",
       "alternative hypothesis: true difference in means is not equal to 0\n",
       "95 percent confidence interval:\n",
       " -0.1163942  0.1443383\n",
       "sample estimates:\n",
       "mean of the differences \n",
       "             0.01397206 \n"
      ]
     },
     "metadata": {},
     "output_type": "display_data"
    }
   ],
   "source": [
    "#Paired Sample Q2 dan Q8"
   ]
  },
  {
   "cell_type": "code",
   "execution_count": 23,
   "metadata": {},
   "outputs": [
    {
     "data": {
      "text/plain": [
       "\n",
       "\tPaired t-test\n",
       "\n",
       "data:  data$Q3 and data$Q4\n",
       "t = 4.3905, df = 500, p-value = 1.381e-05\n",
       "alternative hypothesis: true difference in means is not equal to 0\n",
       "95 percent confidence interval:\n",
       " 0.1554949 0.4073794\n",
       "sample estimates:\n",
       "mean of the differences \n",
       "              0.2814371 \n"
      ]
     },
     "metadata": {},
     "output_type": "display_data"
    }
   ],
   "source": [
    "#Paired Sample Q3 dan Q4"
   ]
  },
  {
   "cell_type": "code",
   "execution_count": 24,
   "metadata": {},
   "outputs": [
    {
     "data": {
      "text/plain": [
       "\n",
       "\tPaired t-test\n",
       "\n",
       "data:  data$Q3 and data$Q5\n",
       "t = -10.966, df = 500, p-value < 2.2e-16\n",
       "alternative hypothesis: true difference in means is not equal to 0\n",
       "95 percent confidence interval:\n",
       " -0.8731914 -0.6078465\n",
       "sample estimates:\n",
       "mean of the differences \n",
       "              -0.740519 \n"
      ]
     },
     "metadata": {},
     "output_type": "display_data"
    }
   ],
   "source": [
    "#Paired Sample Q3 dan Q5"
   ]
  },
  {
   "cell_type": "code",
   "execution_count": 25,
   "metadata": {},
   "outputs": [
    {
     "data": {
      "text/plain": [
       "\n",
       "\tPaired t-test\n",
       "\n",
       "data:  data$Q3 and data$Q6\n",
       "t = 3.703, df = 500, p-value = 0.0002368\n",
       "alternative hypothesis: true difference in means is not equal to 0\n",
       "95 percent confidence interval:\n",
       " 0.09557095 0.31161468\n",
       "sample estimates:\n",
       "mean of the differences \n",
       "              0.2035928 \n"
      ]
     },
     "metadata": {},
     "output_type": "display_data"
    }
   ],
   "source": [
    "#Paired Sample Q3 dan Q6"
   ]
  },
  {
   "cell_type": "code",
   "execution_count": 26,
   "metadata": {},
   "outputs": [
    {
     "data": {
      "text/plain": [
       "\n",
       "\tPaired t-test\n",
       "\n",
       "data:  data$Q3 and data$Q7\n",
       "t = -12.606, df = 500, p-value < 2.2e-16\n",
       "alternative hypothesis: true difference in means is not equal to 0\n",
       "95 percent confidence interval:\n",
       " -0.9389914 -0.6857591\n",
       "sample estimates:\n",
       "mean of the differences \n",
       "             -0.8123752 \n"
      ]
     },
     "metadata": {},
     "output_type": "display_data"
    }
   ],
   "source": [
    "#Paired Sample Q3 dan Q7"
   ]
  },
  {
   "cell_type": "code",
   "execution_count": 27,
   "metadata": {},
   "outputs": [
    {
     "data": {
      "text/plain": [
       "\n",
       "\tPaired t-test\n",
       "\n",
       "data:  data$Q3 and data$Q8\n",
       "t = -0.20943, df = 500, p-value = 0.8342\n",
       "alternative hypothesis: true difference in means is not equal to 0\n",
       "95 percent confidence interval:\n",
       " -0.1450456  0.1171015\n",
       "sample estimates:\n",
       "mean of the differences \n",
       "            -0.01397206 \n"
      ]
     },
     "metadata": {},
     "output_type": "display_data"
    }
   ],
   "source": [
    "#Paired Sample Q3 dan Q8"
   ]
  },
  {
   "cell_type": "code",
   "execution_count": 28,
   "metadata": {},
   "outputs": [
    {
     "data": {
      "text/plain": [
       "\n",
       "\tPaired t-test\n",
       "\n",
       "data:  data$Q4 and data$Q5\n",
       "t = -15.631, df = 500, p-value < 2.2e-16\n",
       "alternative hypothesis: true difference in means is not equal to 0\n",
       "95 percent confidence interval:\n",
       " -1.1504086 -0.8935036\n",
       "sample estimates:\n",
       "mean of the differences \n",
       "              -1.021956 \n"
      ]
     },
     "metadata": {},
     "output_type": "display_data"
    }
   ],
   "source": [
    "#Paired Sample Q4 dan Q5"
   ]
  },
  {
   "cell_type": "code",
   "execution_count": 29,
   "metadata": {},
   "outputs": [
    {
     "data": {
      "text/plain": [
       "\n",
       "\tPaired t-test\n",
       "\n",
       "data:  data$Q4 and data$Q6\n",
       "t = -1.1823, df = 500, p-value = 0.2377\n",
       "alternative hypothesis: true difference in means is not equal to 0\n",
       "95 percent confidence interval:\n",
       " -0.20720565  0.05151703\n",
       "sample estimates:\n",
       "mean of the differences \n",
       "            -0.07784431 \n"
      ]
     },
     "metadata": {},
     "output_type": "display_data"
    }
   ],
   "source": [
    "#Paired Sample Q4 dan Q6"
   ]
  },
  {
   "cell_type": "code",
   "execution_count": 30,
   "metadata": {},
   "outputs": [
    {
     "data": {
      "text/plain": [
       "\n",
       "\tPaired t-test\n",
       "\n",
       "data:  data$Q4 and data$Q7\n",
       "t = -18.182, df = 500, p-value < 2.2e-16\n",
       "alternative hypothesis: true difference in means is not equal to 0\n",
       "95 percent confidence interval:\n",
       " -1.2120083 -0.9756165\n",
       "sample estimates:\n",
       "mean of the differences \n",
       "              -1.093812 \n"
      ]
     },
     "metadata": {},
     "output_type": "display_data"
    }
   ],
   "source": [
    "#Paired Sample Q4 dan Q7"
   ]
  },
  {
   "cell_type": "code",
   "execution_count": 31,
   "metadata": {},
   "outputs": [
    {
     "data": {
      "text/plain": [
       "\n",
       "\tPaired t-test\n",
       "\n",
       "data:  data$Q4 and data$Q8\n",
       "t = -3.9883, df = 500, p-value = 7.648e-05\n",
       "alternative hypothesis: true difference in means is not equal to 0\n",
       "95 percent confidence interval:\n",
       " -0.4409331 -0.1498853\n",
       "sample estimates:\n",
       "mean of the differences \n",
       "             -0.2954092 \n"
      ]
     },
     "metadata": {},
     "output_type": "display_data"
    }
   ],
   "source": [
    "#Paired Sample Q4 dan Q8"
   ]
  },
  {
   "cell_type": "code",
   "execution_count": 32,
   "metadata": {},
   "outputs": [
    {
     "data": {
      "text/plain": [
       "\n",
       "\tPaired t-test\n",
       "\n",
       "data:  data$Q5 and data$Q6\n",
       "t = 12.373, df = 500, p-value < 2.2e-16\n",
       "alternative hypothesis: true difference in means is not equal to 0\n",
       "95 percent confidence interval:\n",
       " 0.7941984 1.0940251\n",
       "sample estimates:\n",
       "mean of the differences \n",
       "              0.9441118 \n"
      ]
     },
     "metadata": {},
     "output_type": "display_data"
    }
   ],
   "source": [
    "#Paired Sample Q5 dan Q6"
   ]
  },
  {
   "cell_type": "code",
   "execution_count": 33,
   "metadata": {},
   "outputs": [
    {
     "data": {
      "text/plain": [
       "\n",
       "\tPaired t-test\n",
       "\n",
       "data:  data$Q5 and data$Q7\n",
       "t = -1.19, df = 500, p-value = 0.2346\n",
       "alternative hypothesis: true difference in means is not equal to 0\n",
       "95 percent confidence interval:\n",
       " -0.19049609  0.04678351\n",
       "sample estimates:\n",
       "mean of the differences \n",
       "            -0.07185629 \n"
      ]
     },
     "metadata": {},
     "output_type": "display_data"
    }
   ],
   "source": [
    "#Paired Sample Q5 dan Q7"
   ]
  },
  {
   "cell_type": "code",
   "execution_count": 34,
   "metadata": {},
   "outputs": [
    {
     "data": {
      "text/plain": [
       "\n",
       "\tPaired t-test\n",
       "\n",
       "data:  data$Q5 and data$Q8\n",
       "t = 9.1846, df = 500, p-value < 2.2e-16\n",
       "alternative hypothesis: true difference in means is not equal to 0\n",
       "95 percent confidence interval:\n",
       " 0.5711274 0.8819665\n",
       "sample estimates:\n",
       "mean of the differences \n",
       "              0.7265469 \n"
      ]
     },
     "metadata": {},
     "output_type": "display_data"
    }
   ],
   "source": [
    "#Paired Sample Q5 dan Q8"
   ]
  },
  {
   "cell_type": "code",
   "execution_count": 35,
   "metadata": {},
   "outputs": [
    {
     "data": {
      "text/plain": [
       "\n",
       "\tPaired t-test\n",
       "\n",
       "data:  data$Q6 and data$Q7\n",
       "t = -16.033, df = 500, p-value < 2.2e-16\n",
       "alternative hypothesis: true difference in means is not equal to 0\n",
       "95 percent confidence interval:\n",
       " -1.1404677 -0.8914684\n",
       "sample estimates:\n",
       "mean of the differences \n",
       "              -1.015968 \n"
      ]
     },
     "metadata": {},
     "output_type": "display_data"
    }
   ],
   "source": [
    "#Paired Sample Q6 dan Q7"
   ]
  },
  {
   "cell_type": "code",
   "execution_count": 36,
   "metadata": {},
   "outputs": [
    {
     "data": {
      "text/plain": [
       "\n",
       "\tPaired t-test\n",
       "\n",
       "data:  data$Q6 and data$Q8\n",
       "t = -3.2261, df = 500, p-value = 0.001337\n",
       "alternative hypothesis: true difference in means is not equal to 0\n",
       "95 percent confidence interval:\n",
       " -0.35006400 -0.08506574\n",
       "sample estimates:\n",
       "mean of the differences \n",
       "             -0.2175649 \n"
      ]
     },
     "metadata": {},
     "output_type": "display_data"
    }
   ],
   "source": [
    "#Paired Sample Q6 dan Q8"
   ]
  },
  {
   "cell_type": "code",
   "execution_count": 37,
   "metadata": {},
   "outputs": [
    {
     "data": {
      "text/plain": [
       "\n",
       "\tPaired t-test\n",
       "\n",
       "data:  data$Q7 and data$Q8\n",
       "t = 12.224, df = 500, p-value < 2.2e-16\n",
       "alternative hypothesis: true difference in means is not equal to 0\n",
       "95 percent confidence interval:\n",
       " 0.6700779 0.9267285\n",
       "sample estimates:\n",
       "mean of the differences \n",
       "              0.7984032 \n"
      ]
     },
     "metadata": {},
     "output_type": "display_data"
    }
   ],
   "source": [
    "#Paired Sample Q7 dan Q8"
   ]
  },
  {
   "cell_type": "markdown",
   "metadata": {},
   "source": [
    "# Principal Component Analysis (PCA)"
   ]
  },
  {
   "cell_type": "code",
   "execution_count": 57,
   "metadata": {},
   "outputs": [
    {
     "data": {
      "text/plain": [
       "Importance of components:\n",
       "                          PC1    PC2    PC3    PC4    PC5     PC6     PC7\n",
       "Standard deviation     1.4353 1.1580 1.1224 1.0055 0.9104 0.79535 0.75360\n",
       "Proportion of Variance 0.2575 0.1676 0.1575 0.1264 0.1036 0.07907 0.07099\n",
       "Cumulative Proportion  0.2575 0.4251 0.5826 0.7090 0.8126 0.89165 0.96264\n",
       "                           PC8\n",
       "Standard deviation     0.54667\n",
       "Proportion of Variance 0.03736\n",
       "Cumulative Proportion  1.00000"
      ]
     },
     "metadata": {},
     "output_type": "display_data"
    }
   ],
   "source": [
    "#Componen PCA"
   ]
  },
  {
   "cell_type": "code",
   "execution_count": 58,
   "metadata": {},
   "outputs": [
    {
     "data": {
      "image/png": "[encoded data removed]",
      "text/plain": [
       "plot without title"
      ]
     },
     "metadata": {},
     "output_type": "display_data"
    }
   ],
   "source": [
    "#Biplot"
   ]
  },
  {
   "cell_type": "code",
   "execution_count": 39,
   "metadata": {},
   "outputs": [
    {
     "data": {
      "image/png": "[encoded data removed]",
      "text/plain": [
       "plot without title"
      ]
     },
     "metadata": {},
     "output_type": "display_data"
    }
   ],
   "source": [
    "#Scree Plot"
   ]
  },
  {
   "cell_type": "code",
   "execution_count": 40,
   "metadata": {},
   "outputs": [
    {
     "data": {
      "image/png": "[encoded data removed]",
      "text/plain": [
       "plot without title"
      ]
     },
     "metadata": {},
     "output_type": "display_data"
    }
   ],
   "source": [
    "# Cumulative Scree Plot"
   ]
  }
 ],
 "metadata": {
  "kernelspec": {
   "display_name": "R",
   "language": "R",
   "name": "ir"
  },
  "language_info": {
   "codemirror_mode": "r",
   "file_extension": ".r",
   "mimetype": "text/x-r-source",
   "name": "R",
   "pygments_lexer": "r",
   "version": "3.6.1"
  }
 },
 "nbformat": 4,
 "nbformat_minor": 4
}
